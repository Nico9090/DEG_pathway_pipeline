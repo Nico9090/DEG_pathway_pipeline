#!/usr/bin/env python3
import pandas as pd
#BW transform
seq="GACTATATCCTAAATACCCGCACCATTACCGACACCCGTGGCCCAAGCAG"
tString=seq + "$"
print(tString)

def left_circular_shift(string):
        all_left_circular_shifts=[]
        x=0
        for i in range(len(string)):
                all_left_circular_shifts.append(string[1:]+string[0])
                string=string[1:]+string[0]
                x+=1
        return all_left_circular_shifts

lc_shifts=left_circular_shift(tString)

sorted_lc_shifts=sorted(lc_shifts)
bwt = [char[-1] for char in sorted_lc_shifts]
#BWT table
data={
    'Circular Shifts': lc_shifts,
    'Sorted Circular Shifts': sorted_lc_shifts,
    'BWT': bwt
}
df=pd.DataFrame(data)

chars={"A":0,"C":0,"G":0,"T":0}
for string in df["BWT"]:
    if string !="$":
        chars[string]+=1
print(chars)

c_array={"A":0,
         "C":15,
         "G":34,
         "T":42}
#Meaning: The first A in the BWT column appears at index of 0. The first C appears at index of 15. So on. Since $ was added, increase every number by 1
#corrected_c_array={"A":1,
         "C":16,
         "G":35,
         "T":43}
