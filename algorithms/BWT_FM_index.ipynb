{
 "cells": [
  {
   "cell_type": "code",
   "execution_count": 1,
   "id": "a4849cb6-fa96-4ee4-ad66-9bff2d0e8491",
   "metadata": {},
   "outputs": [
    {
     "name": "stdout",
     "output_type": "stream",
     "text": [
      "GACTATATCCTAAATACCCGCACCATTACCGACACCCGTGGCCCAAGCAG$\n"
     ]
    }
   ],
   "source": [
    "#!/usr/bin/env python3\n",
    "import pandas as pd\n",
    "#BW transform\n",
    "seq=\"GACTATATCCTAAATACCCGCACCATTACCGACACCCGTGGCCCAAGCAG\"\n",
    "tString=seq + \"$\"\n",
    "print(tString)\n",
    "\n",
    "def left_circular_shift(string):\n",
    "        all_left_circular_shifts=[]\n",
    "        x=0\n",
    "        for i in range(len(string)):\n",
    "                all_left_circular_shifts.append(string[1:]+string[0])\n",
    "                string=string[1:]+string[0]\n",
    "                x+=1\n",
    "        return all_left_circular_shifts\n",
    "\n",
    "lc_shifts=left_circular_shift(tString)\n",
    "\n",
    "sorted_lc_shifts=sorted(lc_shifts)\n",
    "bwt = [char[-1] for char in sorted_lc_shifts]\n",
    "#BWT table\n",
    "data={\n",
    "    'Circular Shifts': lc_shifts,\n",
    "    'Sorted Circular Shifts': sorted_lc_shifts,\n",
    "    'BWT': bwt\n",
    "}\n",
    "df=pd.DataFrame(data)\n"
   ]
  },
  {
   "cell_type": "code",
   "execution_count": 2,
   "id": "39329fd5-e8f4-40f8-9e8f-b24baab4f581",
   "metadata": {},
   "outputs": [
    {
     "name": "stdout",
     "output_type": "stream",
     "text": [
      "ACTATATCCTAAATACCCGCACCATTACCGACACCCGTGGCCCAAGCAG$G\n"
     ]
    }
   ],
   "source": [
    "print(df[\"Circular Shifts\"][0])"
   ]
  },
  {
   "cell_type": "code",
   "execution_count": 3,
   "id": "034ca892-9d4d-48b9-824d-71043f64abbd",
   "metadata": {},
   "outputs": [
    {
     "name": "stdout",
     "output_type": "stream",
     "text": [
      "$GACTATATCCTAAATACCCGCACCATTACCGACACCCGTGGCCCAAGCAG\n"
     ]
    }
   ],
   "source": [
    "\n",
    "print(df[\"Sorted Circular Shifts\"][0])"
   ]
  },
  {
   "cell_type": "code",
   "execution_count": 21,
   "id": "f1ea9ac4-5001-4c05-8f0a-1d8394a0fac9",
   "metadata": {},
   "outputs": [
    {
     "name": "stdout",
     "output_type": "stream",
     "text": [
      "0     G\n",
      "1     T\n",
      "2     C\n",
      "3     A\n",
      "4     G\n",
      "5     C\n",
      "6     T\n",
      "7     C\n",
      "8     T\n",
      "9     G\n",
      "10    C\n",
      "11    A\n",
      "12    A\n",
      "13    T\n",
      "14    T\n",
      "15    C\n",
      "16    C\n",
      "17    G\n",
      "18    A\n",
      "19    G\n",
      "20    C\n",
      "21    C\n",
      "22    A\n",
      "23    G\n",
      "24    A\n",
      "25    A\n",
      "26    A\n",
      "27    C\n",
      "28    C\n",
      "29    T\n",
      "30    C\n",
      "31    C\n",
      "32    C\n",
      "33    C\n",
      "34    A\n",
      "35    A\n",
      "36    C\n",
      "37    $\n",
      "38    C\n",
      "39    A\n",
      "40    G\n",
      "41    T\n",
      "42    C\n",
      "43    C\n",
      "44    A\n",
      "45    T\n",
      "46    C\n",
      "47    A\n",
      "48    A\n",
      "49    G\n",
      "50    A\n",
      "Name: BWT, dtype: object\n"
     ]
    }
   ],
   "source": [
    "print(df[\"BWT\"])"
   ]
  },
  {
   "cell_type": "code",
   "execution_count": 4,
   "id": "45df4702-1cc4-4285-9dda-e1170a1f93b5",
   "metadata": {},
   "outputs": [
    {
     "name": "stdout",
     "output_type": "stream",
     "text": [
      "                                      Circular Shifts  \\\n",
      "0   ACTATATCCTAAATACCCGCACCATTACCGACACCCGTGGCCCAAG...   \n",
      "1   CTATATCCTAAATACCCGCACCATTACCGACACCCGTGGCCCAAGC...   \n",
      "2   TATATCCTAAATACCCGCACCATTACCGACACCCGTGGCCCAAGCA...   \n",
      "3   ATATCCTAAATACCCGCACCATTACCGACACCCGTGGCCCAAGCAG...   \n",
      "4   TATCCTAAATACCCGCACCATTACCGACACCCGTGGCCCAAGCAG$...   \n",
      "5   ATCCTAAATACCCGCACCATTACCGACACCCGTGGCCCAAGCAG$G...   \n",
      "6   TCCTAAATACCCGCACCATTACCGACACCCGTGGCCCAAGCAG$GA...   \n",
      "7   CCTAAATACCCGCACCATTACCGACACCCGTGGCCCAAGCAG$GAC...   \n",
      "8   CTAAATACCCGCACCATTACCGACACCCGTGGCCCAAGCAG$GACT...   \n",
      "9   TAAATACCCGCACCATTACCGACACCCGTGGCCCAAGCAG$GACTA...   \n",
      "10  AAATACCCGCACCATTACCGACACCCGTGGCCCAAGCAG$GACTAT...   \n",
      "11  AATACCCGCACCATTACCGACACCCGTGGCCCAAGCAG$GACTATA...   \n",
      "12  ATACCCGCACCATTACCGACACCCGTGGCCCAAGCAG$GACTATAT...   \n",
      "13  TACCCGCACCATTACCGACACCCGTGGCCCAAGCAG$GACTATATC...   \n",
      "14  ACCCGCACCATTACCGACACCCGTGGCCCAAGCAG$GACTATATCC...   \n",
      "15  CCCGCACCATTACCGACACCCGTGGCCCAAGCAG$GACTATATCCT...   \n",
      "16  CCGCACCATTACCGACACCCGTGGCCCAAGCAG$GACTATATCCTA...   \n",
      "17  CGCACCATTACCGACACCCGTGGCCCAAGCAG$GACTATATCCTAA...   \n",
      "18  GCACCATTACCGACACCCGTGGCCCAAGCAG$GACTATATCCTAAA...   \n",
      "19  CACCATTACCGACACCCGTGGCCCAAGCAG$GACTATATCCTAAAT...   \n",
      "20  ACCATTACCGACACCCGTGGCCCAAGCAG$GACTATATCCTAAATA...   \n",
      "21  CCATTACCGACACCCGTGGCCCAAGCAG$GACTATATCCTAAATAC...   \n",
      "22  CATTACCGACACCCGTGGCCCAAGCAG$GACTATATCCTAAATACC...   \n",
      "23  ATTACCGACACCCGTGGCCCAAGCAG$GACTATATCCTAAATACCC...   \n",
      "24  TTACCGACACCCGTGGCCCAAGCAG$GACTATATCCTAAATACCCG...   \n",
      "25  TACCGACACCCGTGGCCCAAGCAG$GACTATATCCTAAATACCCGC...   \n",
      "26  ACCGACACCCGTGGCCCAAGCAG$GACTATATCCTAAATACCCGCA...   \n",
      "27  CCGACACCCGTGGCCCAAGCAG$GACTATATCCTAAATACCCGCAC...   \n",
      "28  CGACACCCGTGGCCCAAGCAG$GACTATATCCTAAATACCCGCACC...   \n",
      "29  GACACCCGTGGCCCAAGCAG$GACTATATCCTAAATACCCGCACCA...   \n",
      "30  ACACCCGTGGCCCAAGCAG$GACTATATCCTAAATACCCGCACCAT...   \n",
      "31  CACCCGTGGCCCAAGCAG$GACTATATCCTAAATACCCGCACCATT...   \n",
      "32  ACCCGTGGCCCAAGCAG$GACTATATCCTAAATACCCGCACCATTA...   \n",
      "33  CCCGTGGCCCAAGCAG$GACTATATCCTAAATACCCGCACCATTAC...   \n",
      "34  CCGTGGCCCAAGCAG$GACTATATCCTAAATACCCGCACCATTACC...   \n",
      "35  CGTGGCCCAAGCAG$GACTATATCCTAAATACCCGCACCATTACCG...   \n",
      "36  GTGGCCCAAGCAG$GACTATATCCTAAATACCCGCACCATTACCGA...   \n",
      "37  TGGCCCAAGCAG$GACTATATCCTAAATACCCGCACCATTACCGAC...   \n",
      "38  GGCCCAAGCAG$GACTATATCCTAAATACCCGCACCATTACCGACA...   \n",
      "39  GCCCAAGCAG$GACTATATCCTAAATACCCGCACCATTACCGACAC...   \n",
      "40  CCCAAGCAG$GACTATATCCTAAATACCCGCACCATTACCGACACC...   \n",
      "41  CCAAGCAG$GACTATATCCTAAATACCCGCACCATTACCGACACCC...   \n",
      "42  CAAGCAG$GACTATATCCTAAATACCCGCACCATTACCGACACCCG...   \n",
      "43  AAGCAG$GACTATATCCTAAATACCCGCACCATTACCGACACCCGT...   \n",
      "44  AGCAG$GACTATATCCTAAATACCCGCACCATTACCGACACCCGTG...   \n",
      "45  GCAG$GACTATATCCTAAATACCCGCACCATTACCGACACCCGTGG...   \n",
      "46  CAG$GACTATATCCTAAATACCCGCACCATTACCGACACCCGTGGC...   \n",
      "47  AG$GACTATATCCTAAATACCCGCACCATTACCGACACCCGTGGCC...   \n",
      "48  G$GACTATATCCTAAATACCCGCACCATTACCGACACCCGTGGCCC...   \n",
      "49  $GACTATATCCTAAATACCCGCACCATTACCGACACCCGTGGCCCA...   \n",
      "50  GACTATATCCTAAATACCCGCACCATTACCGACACCCGTGGCCCAA...   \n",
      "\n",
      "                               Sorted Circular Shifts BWT  \n",
      "0   $GACTATATCCTAAATACCCGCACCATTACCGACACCCGTGGCCCA...   G  \n",
      "1   AAATACCCGCACCATTACCGACACCCGTGGCCCAAGCAG$GACTAT...   T  \n",
      "2   AAGCAG$GACTATATCCTAAATACCCGCACCATTACCGACACCCGT...   C  \n",
      "3   AATACCCGCACCATTACCGACACCCGTGGCCCAAGCAG$GACTATA...   A  \n",
      "4   ACACCCGTGGCCCAAGCAG$GACTATATCCTAAATACCCGCACCAT...   G  \n",
      "5   ACCATTACCGACACCCGTGGCCCAAGCAG$GACTATATCCTAAATA...   C  \n",
      "6   ACCCGCACCATTACCGACACCCGTGGCCCAAGCAG$GACTATATCC...   T  \n",
      "7   ACCCGTGGCCCAAGCAG$GACTATATCCTAAATACCCGCACCATTA...   C  \n",
      "8   ACCGACACCCGTGGCCCAAGCAG$GACTATATCCTAAATACCCGCA...   T  \n",
      "9   ACTATATCCTAAATACCCGCACCATTACCGACACCCGTGGCCCAAG...   G  \n",
      "10  AG$GACTATATCCTAAATACCCGCACCATTACCGACACCCGTGGCC...   C  \n",
      "11  AGCAG$GACTATATCCTAAATACCCGCACCATTACCGACACCCGTG...   A  \n",
      "12  ATACCCGCACCATTACCGACACCCGTGGCCCAAGCAG$GACTATAT...   A  \n",
      "13  ATATCCTAAATACCCGCACCATTACCGACACCCGTGGCCCAAGCAG...   T  \n",
      "14  ATCCTAAATACCCGCACCATTACCGACACCCGTGGCCCAAGCAG$G...   T  \n",
      "15  ATTACCGACACCCGTGGCCCAAGCAG$GACTATATCCTAAATACCC...   C  \n",
      "16  CAAGCAG$GACTATATCCTAAATACCCGCACCATTACCGACACCCG...   C  \n",
      "17  CACCATTACCGACACCCGTGGCCCAAGCAG$GACTATATCCTAAAT...   G  \n",
      "18  CACCCGTGGCCCAAGCAG$GACTATATCCTAAATACCCGCACCATT...   A  \n",
      "19  CAG$GACTATATCCTAAATACCCGCACCATTACCGACACCCGTGGC...   G  \n",
      "20  CATTACCGACACCCGTGGCCCAAGCAG$GACTATATCCTAAATACC...   C  \n",
      "21  CCAAGCAG$GACTATATCCTAAATACCCGCACCATTACCGACACCC...   C  \n",
      "22  CCATTACCGACACCCGTGGCCCAAGCAG$GACTATATCCTAAATAC...   A  \n",
      "23  CCCAAGCAG$GACTATATCCTAAATACCCGCACCATTACCGACACC...   G  \n",
      "24  CCCGCACCATTACCGACACCCGTGGCCCAAGCAG$GACTATATCCT...   A  \n",
      "25  CCCGTGGCCCAAGCAG$GACTATATCCTAAATACCCGCACCATTAC...   A  \n",
      "26  CCGACACCCGTGGCCCAAGCAG$GACTATATCCTAAATACCCGCAC...   A  \n",
      "27  CCGCACCATTACCGACACCCGTGGCCCAAGCAG$GACTATATCCTA...   C  \n",
      "28  CCGTGGCCCAAGCAG$GACTATATCCTAAATACCCGCACCATTACC...   C  \n",
      "29  CCTAAATACCCGCACCATTACCGACACCCGTGGCCCAAGCAG$GAC...   T  \n",
      "30  CGACACCCGTGGCCCAAGCAG$GACTATATCCTAAATACCCGCACC...   C  \n",
      "31  CGCACCATTACCGACACCCGTGGCCCAAGCAG$GACTATATCCTAA...   C  \n",
      "32  CGTGGCCCAAGCAG$GACTATATCCTAAATACCCGCACCATTACCG...   C  \n",
      "33  CTAAATACCCGCACCATTACCGACACCCGTGGCCCAAGCAG$GACT...   C  \n",
      "34  CTATATCCTAAATACCCGCACCATTACCGACACCCGTGGCCCAAGC...   A  \n",
      "35  G$GACTATATCCTAAATACCCGCACCATTACCGACACCCGTGGCCC...   A  \n",
      "36  GACACCCGTGGCCCAAGCAG$GACTATATCCTAAATACCCGCACCA...   C  \n",
      "37  GACTATATCCTAAATACCCGCACCATTACCGACACCCGTGGCCCAA...   $  \n",
      "38  GCACCATTACCGACACCCGTGGCCCAAGCAG$GACTATATCCTAAA...   C  \n",
      "39  GCAG$GACTATATCCTAAATACCCGCACCATTACCGACACCCGTGG...   A  \n",
      "40  GCCCAAGCAG$GACTATATCCTAAATACCCGCACCATTACCGACAC...   G  \n",
      "41  GGCCCAAGCAG$GACTATATCCTAAATACCCGCACCATTACCGACA...   T  \n",
      "42  GTGGCCCAAGCAG$GACTATATCCTAAATACCCGCACCATTACCGA...   C  \n",
      "43  TAAATACCCGCACCATTACCGACACCCGTGGCCCAAGCAG$GACTA...   C  \n",
      "44  TACCCGCACCATTACCGACACCCGTGGCCCAAGCAG$GACTATATC...   A  \n",
      "45  TACCGACACCCGTGGCCCAAGCAG$GACTATATCCTAAATACCCGC...   T  \n",
      "46  TATATCCTAAATACCCGCACCATTACCGACACCCGTGGCCCAAGCA...   C  \n",
      "47  TATCCTAAATACCCGCACCATTACCGACACCCGTGGCCCAAGCAG$...   A  \n",
      "48  TCCTAAATACCCGCACCATTACCGACACCCGTGGCCCAAGCAG$GA...   A  \n",
      "49  TGGCCCAAGCAG$GACTATATCCTAAATACCCGCACCATTACCGAC...   G  \n",
      "50  TTACCGACACCCGTGGCCCAAGCAG$GACTATATCCTAAATACCCG...   A  \n"
     ]
    }
   ],
   "source": [
    "print(df)"
   ]
  },
  {
   "cell_type": "code",
   "execution_count": 6,
   "id": "7feae1ba-e0e2-4359-a5cc-dddf7e24e4ed",
   "metadata": {},
   "outputs": [
    {
     "name": "stdout",
     "output_type": "stream",
     "text": [
      "{'A': 15, 'C': 19, 'G': 8, 'T': 8}\n"
     ]
    }
   ],
   "source": [
    "chars={\"A\":0,\"C\":0,\"G\":0,\"T\":0}\n",
    "for string in df[\"BWT\"]:\n",
    "    if string !=\"$\":\n",
    "        chars[string]+=1\n",
    "print(chars)"
   ]
  },
  {
   "cell_type": "code",
   "execution_count": 7,
   "id": "42dde8fa-4da5-439e-8a56-079c141b95dd",
   "metadata": {},
   "outputs": [],
   "source": [
    "c_array={\"A\":0,\n",
    "         \"C\":15,\n",
    "         \"G\":34,\n",
    "         \"T\":42}\n",
    "#Meaning: The first A in the BWT column appears at index of 0. The first C appears at index of 15. So on. Since $ was added, increase every number by 1\n",
    "corrected_c_array={\"A\":1,\n",
    "         \"C\":16,\n",
    "         \"G\":35,\n",
    "         \"T\":43}"
   ]
  },
  {
   "cell_type": "code",
   "execution_count": 8,
   "id": "2f24ad4d-5039-4096-802a-82a0e18fa848",
   "metadata": {},
   "outputs": [],
   "source": [
    "#Next step is occurence table"
   ]
  }
 ],
 "metadata": {
  "kernelspec": {
   "display_name": "Python 3 (ipykernel)",
   "language": "python",
   "name": "python3"
  },
  "language_info": {
   "codemirror_mode": {
    "name": "ipython",
    "version": 3
   },
   "file_extension": ".py",
   "mimetype": "text/x-python",
   "name": "python",
   "nbconvert_exporter": "python",
   "pygments_lexer": "ipython3",
   "version": "3.12.10"
  }
 },
 "nbformat": 4,
 "nbformat_minor": 5
}
